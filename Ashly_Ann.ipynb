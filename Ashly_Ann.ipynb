{
  "nbformat": 4,
  "nbformat_minor": 0,
  "metadata": {
    "colab": {
      "name": "Ashly Ann.ipynb",
      "provenance": [],
      "collapsed_sections": []
    },
    "kernelspec": {
      "name": "python3",
      "display_name": "Python 3"
    },
    "language_info": {
      "name": "python"
    }
  },
  "cells": [
    {
      "cell_type": "code",
      "metadata": {
        "id": "lJubtBn_yauL"
      },
      "source": [
        "from keras.datasets import mnist\n",
        "data = mnist.load_data()"
      ],
      "execution_count": null,
      "outputs": []
    },
    {
      "cell_type": "code",
      "metadata": {
        "id": "F5hA7-qwzNPa"
      },
      "source": [
        "((x_train,y_train), (x_test,y_test))  = data"
      ],
      "execution_count": null,
      "outputs": []
    },
    {
      "cell_type": "code",
      "metadata": {
        "id": "Xl78mbETHqol"
      },
      "source": [
        "x_train = x_train.reshape((x_train.shape[0],28*28)).astype('float32')\n",
        "x_test = x_test.reshape((x_test.shape[0],28*28)).astype('float32')"
      ],
      "execution_count": null,
      "outputs": []
    },
    {
      "cell_type": "code",
      "metadata": {
        "id": "8iTzEt3IIfP8"
      },
      "source": [
        "x_train = x_train/255\n",
        "x_test = x_test/255"
      ],
      "execution_count": null,
      "outputs": []
    },
    {
      "cell_type": "code",
      "metadata": {
        "colab": {
          "base_uri": "https://localhost:8080/"
        },
        "id": "G7PXA9-NzIuP",
        "outputId": "26679156-53c3-411c-baa6-b2963b22f91c"
      },
      "source": [
        "from keras.utils import np_utils\n",
        "print(y_test.shape)\n",
        "y_train = np_utils.to_categorical(y_train)\n",
        "y_test = np_utils.to_categorical(y_test)\n",
        "num_classes = y_test.shape[1]\n",
        "print(y_test.shape)"
      ],
      "execution_count": null,
      "outputs": [
        {
          "output_type": "stream",
          "text": [
            "(10000,)\n",
            "(10000, 10)\n"
          ],
          "name": "stdout"
        }
      ]
    },
    {
      "cell_type": "code",
      "metadata": {
        "id": "9-E3H9CQ_1p-"
      },
      "source": [
        "from keras.models import Sequential\n",
        "from keras.layers import Dense"
      ],
      "execution_count": null,
      "outputs": []
    },
    {
      "cell_type": "code",
      "metadata": {
        "id": "3dNvNXbbAKVU"
      },
      "source": [
        "model = Sequential()\n",
        "model.add(Dense(32,input_dim = 28*28,activation='relu'))\n",
        "model.add(Dense(64,activation='relu'))\n",
        "model.add(Dense(10,activation='softmax'))"
      ],
      "execution_count": null,
      "outputs": []
    },
    {
      "cell_type": "code",
      "metadata": {
        "id": "vUS7bcBgCKVx"
      },
      "source": [
        "model.compile(loss='categorical_crossentropy',optimizer='adam',metrics=['accuracy'])"
      ],
      "execution_count": null,
      "outputs": []
    },
    {
      "cell_type": "code",
      "metadata": {
        "colab": {
          "base_uri": "https://localhost:8080/"
        },
        "id": "aqy8ZT3pCirm",
        "outputId": "e88e5fa4-0b7e-4f32-ce6c-54b4203eaa97"
      },
      "source": [
        "model.summary()"
      ],
      "execution_count": null,
      "outputs": [
        {
          "output_type": "stream",
          "text": [
            "Model: \"sequential_16\"\n",
            "_________________________________________________________________\n",
            "Layer (type)                 Output Shape              Param #   \n",
            "=================================================================\n",
            "dense_47 (Dense)             (None, 32)                25120     \n",
            "_________________________________________________________________\n",
            "dense_48 (Dense)             (None, 64)                2112      \n",
            "_________________________________________________________________\n",
            "dense_49 (Dense)             (None, 10)                650       \n",
            "=================================================================\n",
            "Total params: 27,882\n",
            "Trainable params: 27,882\n",
            "Non-trainable params: 0\n",
            "_________________________________________________________________\n"
          ],
          "name": "stdout"
        }
      ]
    },
    {
      "cell_type": "code",
      "metadata": {
        "colab": {
          "base_uri": "https://localhost:8080/"
        },
        "id": "cxRM0k-uC9PM",
        "outputId": "21326646-aa1f-40fe-c599-55591f7069e3"
      },
      "source": [
        "model.fit(x_train, y_train, epochs=10, batch_size=10)"
      ],
      "execution_count": null,
      "outputs": [
        {
          "output_type": "stream",
          "text": [
            "Epoch 1/10\n",
            "6000/6000 [==============================] - 9s 1ms/step - loss: 0.4499 - accuracy: 0.8667\n",
            "Epoch 2/10\n",
            "6000/6000 [==============================] - 8s 1ms/step - loss: 0.1483 - accuracy: 0.9551\n",
            "Epoch 3/10\n",
            "6000/6000 [==============================] - 8s 1ms/step - loss: 0.1104 - accuracy: 0.9676\n",
            "Epoch 4/10\n",
            "6000/6000 [==============================] - 8s 1ms/step - loss: 0.0897 - accuracy: 0.9716\n",
            "Epoch 5/10\n",
            "6000/6000 [==============================] - 8s 1ms/step - loss: 0.0788 - accuracy: 0.9743\n",
            "Epoch 6/10\n",
            "6000/6000 [==============================] - 8s 1ms/step - loss: 0.0661 - accuracy: 0.9774\n",
            "Epoch 7/10\n",
            "6000/6000 [==============================] - 8s 1ms/step - loss: 0.0586 - accuracy: 0.9804\n",
            "Epoch 8/10\n",
            "6000/6000 [==============================] - 8s 1ms/step - loss: 0.0525 - accuracy: 0.9827\n",
            "Epoch 9/10\n",
            "6000/6000 [==============================] - 8s 1ms/step - loss: 0.0485 - accuracy: 0.9841\n",
            "Epoch 10/10\n",
            "6000/6000 [==============================] - 8s 1ms/step - loss: 0.0451 - accuracy: 0.9850\n"
          ],
          "name": "stdout"
        },
        {
          "output_type": "execute_result",
          "data": {
            "text/plain": [
              "<tensorflow.python.keras.callbacks.History at 0x7f2a8e657650>"
            ]
          },
          "metadata": {
            "tags": []
          },
          "execution_count": 177
        }
      ]
    },
    {
      "cell_type": "code",
      "metadata": {
        "id": "GeN9NsaTGLFu",
        "colab": {
          "base_uri": "https://localhost:8080/"
        },
        "outputId": "f2ab45ba-87b0-461f-9540-aff4caaf4e1d"
      },
      "source": [
        "scores = model.evaluate(x_test,y_test)\n",
        "print(scores)"
      ],
      "execution_count": null,
      "outputs": [
        {
          "output_type": "stream",
          "text": [
            "200/313 [==================>...........] - ETA: 0s - loss: 0.1237 - accuracy: 0.9673"
          ],
          "name": "stdout"
        }
      ]
    }
  ]
}